{
 "cells": [
  {
   "cell_type": "markdown",
   "source": [
    "# Исследовательский проект\n",
    "\n",
    "Бершицкий Дмитрий, Пономарев Николай"
   ],
   "metadata": {
    "collapsed": false
   },
   "id": "6384f14ebc28ec05"
  },
  {
   "cell_type": "markdown",
   "source": [
    "Данные взяты из https://www.kaggle.com/datasets/nehalbirla/vehicle-dataset-from-cardekho?select=car+details+v4.csv"
   ],
   "metadata": {
    "collapsed": false
   },
   "id": "7a3874e7134cb3f"
  },
  {
   "cell_type": "code",
   "execution_count": 155,
   "outputs": [],
   "source": [
    "import pandas as pd\n",
    "import seaborn as sns\n",
    "import matplotlib.pyplot as plt\n",
    "import numpy as np\n",
    "import warnings\n",
    "\n",
    "warnings.filterwarnings('ignore')"
   ],
   "metadata": {
    "collapsed": false,
    "ExecuteTime": {
     "end_time": "2025-02-11T14:55:20.310100800Z",
     "start_time": "2025-02-11T14:55:20.226715500Z"
    }
   },
   "id": "769fa87cdc579ade"
  },
  {
   "cell_type": "code",
   "execution_count": 156,
   "outputs": [],
   "source": [
    "df_source = pd.read_csv('car-selling.csv')\n",
    "df = df_source.copy()"
   ],
   "metadata": {
    "collapsed": false,
    "ExecuteTime": {
     "end_time": "2025-02-11T14:55:20.354515900Z",
     "start_time": "2025-02-11T14:55:20.312505300Z"
    }
   },
   "id": "9d9e929b10be3624"
  },
  {
   "cell_type": "code",
   "execution_count": 157,
   "outputs": [
    {
     "data": {
      "text/plain": "               Make                                  Model    Price  Year  \\\n0             Honda                    Amaze 1.2 VX i-VTEC   505000  2017   \n1     Maruti Suzuki                        Swift DZire VDI   450000  2014   \n2           Hyundai                   i10 Magna 1.2 Kappa2   220000  2011   \n3            Toyota                               Glanza G   799000  2019   \n4            Toyota        Innova 2.4 VX 7 STR [2016-2020]  1950000  2018   \n...             ...                                    ...      ...   ...   \n2054       Mahindra                  XUV500 W8 [2015-2017]   850000  2016   \n2055        Hyundai                           Eon D-Lite +   275000  2014   \n2056           Ford            Figo Duratec Petrol ZXI 1.2   240000  2013   \n2057            BMW  5-Series 520d Luxury Line [2017-2019]  4290000  2018   \n2058       Mahindra      Bolero Power Plus ZLX [2016-2019]   670000  2017   \n\n      Kilometer Fuel Type Transmission    Location   Color   Owner  \\\n0         87150    Petrol       Manual        Pune    Grey   First   \n1         75000    Diesel       Manual    Ludhiana   White  Second   \n2         67000    Petrol       Manual     Lucknow  Maroon   First   \n3         37500    Petrol       Manual   Mangalore     Red   First   \n4         69000    Diesel       Manual      Mumbai    Grey   First   \n...         ...       ...          ...         ...     ...     ...   \n2054      90300    Diesel       Manual       Surat   White   First   \n2055      83000    Petrol       Manual   Ahmedabad   White  Second   \n2056      73000    Petrol       Manual       Thane  Silver   First   \n2057      60474    Diesel    Automatic  Coimbatore   White   First   \n2058      72000    Diesel       Manual    Guwahati   White   First   \n\n     Seller Type   Engine           Max Power              Max Torque  \\\n0      Corporate  1198 cc   87 bhp @ 6000 rpm       109 Nm @ 4500 rpm   \n1     Individual  1248 cc   74 bhp @ 4000 rpm       190 Nm @ 2000 rpm   \n2     Individual  1197 cc   79 bhp @ 6000 rpm  112.7619 Nm @ 4000 rpm   \n3     Individual  1197 cc   82 bhp @ 6000 rpm       113 Nm @ 4200 rpm   \n4     Individual  2393 cc  148 bhp @ 3400 rpm       343 Nm @ 1400 rpm   \n...          ...      ...                 ...                     ...   \n2054  Individual  2179 cc  138 bhp @ 3750 rpm       330 Nm @ 1600 rpm   \n2055  Individual   814 cc   55 bhp @ 5500 rpm        75 Nm @ 4000 rpm   \n2056  Individual  1196 cc   70 bhp @ 6250 rpm       102 Nm @ 4000 rpm   \n2057  Individual  1995 cc  188 bhp @ 4000 rpm       400 Nm @ 1750 rpm   \n2058  Individual  1493 cc   70 bhp @ 3600 rpm       195 Nm @ 1400 rpm   \n\n     Drivetrain  Length   Width  Height  Seating Capacity  Fuel Tank Capacity  \n0           FWD  3990.0  1680.0  1505.0               5.0                35.0  \n1           FWD  3995.0  1695.0  1555.0               5.0                42.0  \n2           FWD  3585.0  1595.0  1550.0               5.0                35.0  \n3           FWD  3995.0  1745.0  1510.0               5.0                37.0  \n4           RWD  4735.0  1830.0  1795.0               7.0                55.0  \n...         ...     ...     ...     ...               ...                 ...  \n2054        FWD  4585.0  1890.0  1785.0               7.0                70.0  \n2055        FWD  3495.0  1550.0  1500.0               5.0                32.0  \n2056        FWD  3795.0  1680.0  1427.0               5.0                45.0  \n2057        RWD  4936.0  1868.0  1479.0               5.0                65.0  \n2058        RWD  3995.0  1745.0  1880.0               7.0                 NaN  \n\n[2059 rows x 20 columns]",
      "text/html": "<div>\n<style scoped>\n    .dataframe tbody tr th:only-of-type {\n        vertical-align: middle;\n    }\n\n    .dataframe tbody tr th {\n        vertical-align: top;\n    }\n\n    .dataframe thead th {\n        text-align: right;\n    }\n</style>\n<table border=\"1\" class=\"dataframe\">\n  <thead>\n    <tr style=\"text-align: right;\">\n      <th></th>\n      <th>Make</th>\n      <th>Model</th>\n      <th>Price</th>\n      <th>Year</th>\n      <th>Kilometer</th>\n      <th>Fuel Type</th>\n      <th>Transmission</th>\n      <th>Location</th>\n      <th>Color</th>\n      <th>Owner</th>\n      <th>Seller Type</th>\n      <th>Engine</th>\n      <th>Max Power</th>\n      <th>Max Torque</th>\n      <th>Drivetrain</th>\n      <th>Length</th>\n      <th>Width</th>\n      <th>Height</th>\n      <th>Seating Capacity</th>\n      <th>Fuel Tank Capacity</th>\n    </tr>\n  </thead>\n  <tbody>\n    <tr>\n      <th>0</th>\n      <td>Honda</td>\n      <td>Amaze 1.2 VX i-VTEC</td>\n      <td>505000</td>\n      <td>2017</td>\n      <td>87150</td>\n      <td>Petrol</td>\n      <td>Manual</td>\n      <td>Pune</td>\n      <td>Grey</td>\n      <td>First</td>\n      <td>Corporate</td>\n      <td>1198 cc</td>\n      <td>87 bhp @ 6000 rpm</td>\n      <td>109 Nm @ 4500 rpm</td>\n      <td>FWD</td>\n      <td>3990.0</td>\n      <td>1680.0</td>\n      <td>1505.0</td>\n      <td>5.0</td>\n      <td>35.0</td>\n    </tr>\n    <tr>\n      <th>1</th>\n      <td>Maruti Suzuki</td>\n      <td>Swift DZire VDI</td>\n      <td>450000</td>\n      <td>2014</td>\n      <td>75000</td>\n      <td>Diesel</td>\n      <td>Manual</td>\n      <td>Ludhiana</td>\n      <td>White</td>\n      <td>Second</td>\n      <td>Individual</td>\n      <td>1248 cc</td>\n      <td>74 bhp @ 4000 rpm</td>\n      <td>190 Nm @ 2000 rpm</td>\n      <td>FWD</td>\n      <td>3995.0</td>\n      <td>1695.0</td>\n      <td>1555.0</td>\n      <td>5.0</td>\n      <td>42.0</td>\n    </tr>\n    <tr>\n      <th>2</th>\n      <td>Hyundai</td>\n      <td>i10 Magna 1.2 Kappa2</td>\n      <td>220000</td>\n      <td>2011</td>\n      <td>67000</td>\n      <td>Petrol</td>\n      <td>Manual</td>\n      <td>Lucknow</td>\n      <td>Maroon</td>\n      <td>First</td>\n      <td>Individual</td>\n      <td>1197 cc</td>\n      <td>79 bhp @ 6000 rpm</td>\n      <td>112.7619 Nm @ 4000 rpm</td>\n      <td>FWD</td>\n      <td>3585.0</td>\n      <td>1595.0</td>\n      <td>1550.0</td>\n      <td>5.0</td>\n      <td>35.0</td>\n    </tr>\n    <tr>\n      <th>3</th>\n      <td>Toyota</td>\n      <td>Glanza G</td>\n      <td>799000</td>\n      <td>2019</td>\n      <td>37500</td>\n      <td>Petrol</td>\n      <td>Manual</td>\n      <td>Mangalore</td>\n      <td>Red</td>\n      <td>First</td>\n      <td>Individual</td>\n      <td>1197 cc</td>\n      <td>82 bhp @ 6000 rpm</td>\n      <td>113 Nm @ 4200 rpm</td>\n      <td>FWD</td>\n      <td>3995.0</td>\n      <td>1745.0</td>\n      <td>1510.0</td>\n      <td>5.0</td>\n      <td>37.0</td>\n    </tr>\n    <tr>\n      <th>4</th>\n      <td>Toyota</td>\n      <td>Innova 2.4 VX 7 STR [2016-2020]</td>\n      <td>1950000</td>\n      <td>2018</td>\n      <td>69000</td>\n      <td>Diesel</td>\n      <td>Manual</td>\n      <td>Mumbai</td>\n      <td>Grey</td>\n      <td>First</td>\n      <td>Individual</td>\n      <td>2393 cc</td>\n      <td>148 bhp @ 3400 rpm</td>\n      <td>343 Nm @ 1400 rpm</td>\n      <td>RWD</td>\n      <td>4735.0</td>\n      <td>1830.0</td>\n      <td>1795.0</td>\n      <td>7.0</td>\n      <td>55.0</td>\n    </tr>\n    <tr>\n      <th>...</th>\n      <td>...</td>\n      <td>...</td>\n      <td>...</td>\n      <td>...</td>\n      <td>...</td>\n      <td>...</td>\n      <td>...</td>\n      <td>...</td>\n      <td>...</td>\n      <td>...</td>\n      <td>...</td>\n      <td>...</td>\n      <td>...</td>\n      <td>...</td>\n      <td>...</td>\n      <td>...</td>\n      <td>...</td>\n      <td>...</td>\n      <td>...</td>\n      <td>...</td>\n    </tr>\n    <tr>\n      <th>2054</th>\n      <td>Mahindra</td>\n      <td>XUV500 W8 [2015-2017]</td>\n      <td>850000</td>\n      <td>2016</td>\n      <td>90300</td>\n      <td>Diesel</td>\n      <td>Manual</td>\n      <td>Surat</td>\n      <td>White</td>\n      <td>First</td>\n      <td>Individual</td>\n      <td>2179 cc</td>\n      <td>138 bhp @ 3750 rpm</td>\n      <td>330 Nm @ 1600 rpm</td>\n      <td>FWD</td>\n      <td>4585.0</td>\n      <td>1890.0</td>\n      <td>1785.0</td>\n      <td>7.0</td>\n      <td>70.0</td>\n    </tr>\n    <tr>\n      <th>2055</th>\n      <td>Hyundai</td>\n      <td>Eon D-Lite +</td>\n      <td>275000</td>\n      <td>2014</td>\n      <td>83000</td>\n      <td>Petrol</td>\n      <td>Manual</td>\n      <td>Ahmedabad</td>\n      <td>White</td>\n      <td>Second</td>\n      <td>Individual</td>\n      <td>814 cc</td>\n      <td>55 bhp @ 5500 rpm</td>\n      <td>75 Nm @ 4000 rpm</td>\n      <td>FWD</td>\n      <td>3495.0</td>\n      <td>1550.0</td>\n      <td>1500.0</td>\n      <td>5.0</td>\n      <td>32.0</td>\n    </tr>\n    <tr>\n      <th>2056</th>\n      <td>Ford</td>\n      <td>Figo Duratec Petrol ZXI 1.2</td>\n      <td>240000</td>\n      <td>2013</td>\n      <td>73000</td>\n      <td>Petrol</td>\n      <td>Manual</td>\n      <td>Thane</td>\n      <td>Silver</td>\n      <td>First</td>\n      <td>Individual</td>\n      <td>1196 cc</td>\n      <td>70 bhp @ 6250 rpm</td>\n      <td>102 Nm @ 4000 rpm</td>\n      <td>FWD</td>\n      <td>3795.0</td>\n      <td>1680.0</td>\n      <td>1427.0</td>\n      <td>5.0</td>\n      <td>45.0</td>\n    </tr>\n    <tr>\n      <th>2057</th>\n      <td>BMW</td>\n      <td>5-Series 520d Luxury Line [2017-2019]</td>\n      <td>4290000</td>\n      <td>2018</td>\n      <td>60474</td>\n      <td>Diesel</td>\n      <td>Automatic</td>\n      <td>Coimbatore</td>\n      <td>White</td>\n      <td>First</td>\n      <td>Individual</td>\n      <td>1995 cc</td>\n      <td>188 bhp @ 4000 rpm</td>\n      <td>400 Nm @ 1750 rpm</td>\n      <td>RWD</td>\n      <td>4936.0</td>\n      <td>1868.0</td>\n      <td>1479.0</td>\n      <td>5.0</td>\n      <td>65.0</td>\n    </tr>\n    <tr>\n      <th>2058</th>\n      <td>Mahindra</td>\n      <td>Bolero Power Plus ZLX [2016-2019]</td>\n      <td>670000</td>\n      <td>2017</td>\n      <td>72000</td>\n      <td>Diesel</td>\n      <td>Manual</td>\n      <td>Guwahati</td>\n      <td>White</td>\n      <td>First</td>\n      <td>Individual</td>\n      <td>1493 cc</td>\n      <td>70 bhp @ 3600 rpm</td>\n      <td>195 Nm @ 1400 rpm</td>\n      <td>RWD</td>\n      <td>3995.0</td>\n      <td>1745.0</td>\n      <td>1880.0</td>\n      <td>7.0</td>\n      <td>NaN</td>\n    </tr>\n  </tbody>\n</table>\n<p>2059 rows × 20 columns</p>\n</div>"
     },
     "execution_count": 157,
     "metadata": {},
     "output_type": "execute_result"
    }
   ],
   "source": [
    "df_source"
   ],
   "metadata": {
    "collapsed": false,
    "ExecuteTime": {
     "end_time": "2025-02-11T14:55:20.383342900Z",
     "start_time": "2025-02-11T14:55:20.352282800Z"
    }
   },
   "id": "e0b713e994cfd20a"
  },
  {
   "cell_type": "markdown",
   "source": [],
   "metadata": {
    "collapsed": false
   },
   "id": "2f264656abd53407"
  },
  {
   "cell_type": "code",
   "execution_count": 158,
   "outputs": [
    {
     "name": "stdout",
     "output_type": "stream",
     "text": [
      "<class 'pandas.core.frame.DataFrame'>\n",
      "RangeIndex: 2059 entries, 0 to 2058\n",
      "Data columns (total 20 columns):\n",
      " #   Column              Non-Null Count  Dtype  \n",
      "---  ------              --------------  -----  \n",
      " 0   Make                2059 non-null   object \n",
      " 1   Model               2059 non-null   object \n",
      " 2   Price               2059 non-null   int64  \n",
      " 3   Year                2059 non-null   int64  \n",
      " 4   Kilometer           2059 non-null   int64  \n",
      " 5   Fuel Type           2059 non-null   object \n",
      " 6   Transmission        2059 non-null   object \n",
      " 7   Location            2059 non-null   object \n",
      " 8   Color               2059 non-null   object \n",
      " 9   Owner               2059 non-null   object \n",
      " 10  Seller Type         2059 non-null   object \n",
      " 11  Engine              1979 non-null   object \n",
      " 12  Max Power           1979 non-null   object \n",
      " 13  Max Torque          1979 non-null   object \n",
      " 14  Drivetrain          1923 non-null   object \n",
      " 15  Length              1995 non-null   float64\n",
      " 16  Width               1995 non-null   float64\n",
      " 17  Height              1995 non-null   float64\n",
      " 18  Seating Capacity    1995 non-null   float64\n",
      " 19  Fuel Tank Capacity  1946 non-null   float64\n",
      "dtypes: float64(5), int64(3), object(12)\n",
      "memory usage: 321.8+ KB\n"
     ]
    }
   ],
   "source": [
    "# Посмотрим на типы данных и наличие пропусков\n",
    "df.info()"
   ],
   "metadata": {
    "collapsed": false,
    "ExecuteTime": {
     "end_time": "2025-02-11T14:55:20.442453900Z",
     "start_time": "2025-02-11T14:55:20.372466700Z"
    }
   },
   "id": "8de4ed0912a642fc"
  },
  {
   "cell_type": "code",
   "execution_count": 159,
   "outputs": [
    {
     "data": {
      "text/plain": "Make                    0\nModel                   0\nPrice                   0\nYear                    0\nKilometer               0\nFuel Type               0\nTransmission            0\nLocation                0\nColor                   0\nOwner                   0\nSeller Type             0\nEngine                 80\nMax Power              80\nMax Torque             80\nDrivetrain            136\nLength                 64\nWidth                  64\nHeight                 64\nSeating Capacity       64\nFuel Tank Capacity    113\ndtype: int64"
     },
     "execution_count": 159,
     "metadata": {},
     "output_type": "execute_result"
    }
   ],
   "source": [
    "# Посчитаем количество Null значений для каждой переменной\n",
    "df.isnull().sum()"
   ],
   "metadata": {
    "collapsed": false,
    "ExecuteTime": {
     "end_time": "2025-02-11T14:55:20.471056600Z",
     "start_time": "2025-02-11T14:55:20.389103600Z"
    }
   },
   "id": "258134b1bc8c2cb8"
  },
  {
   "cell_type": "markdown",
   "source": [
    "# 1. Описание датасета\n",
    "\n",
    "Датасет содержит 20 столбцов и 2059 строк. В нем содержатся следующие переменные:\n",
    "\n",
    "| Переменная          | Описание                          | Тип переменной             | Тип данных | Единицы            | Пропуски |\n",
    "|---------------------|---------------------------------|----------------------------|------------|--------------------|----------|\n",
    "| Make               | Марка автомобиля               | Категориальная (номинальная) | string     | -                  | 0        |\n",
    "| Model              | Модель автомобиля             | Категориальная (номинальная) | string     | -                  | 0        |\n",
    "| Price              | Цена автомобиля               | Метрическая                 | integer    | INR                | 0        |\n",
    "| Year               | Год выпуска                   | Метрическая                 | integer    | год                | 0        |\n",
    "| Kilometer          | Пробег автомобиля            | Метрическая                 | integer    | км                 | 0        |\n",
    "| Fuel Type         | Тип топлива                   | Категориальная (номинальная) | string     | -                  | 0        |\n",
    "| Transmission       | Тип трансмиссии              | Категориальная (номинальная) | string     | -                  | 0        |\n",
    "| Location          | Город продажи                 | Категориальная (номинальная) | string     | -                  | 0        |\n",
    "| Color             | Цвет автомобиля               | Категориальная (номинальная) | string     | -                  | 0        |\n",
    "| Owner             | Количество владельцев         | Категориальная (порядковая)  | string     | -                  | 0        |\n",
    "| Seller Type       | Тип продавца                  | Категориальная (номинальная) | string     | -                  | 0        |\n",
    "| Engine           | Объем двигателя              | Метрическая                 | string     | см³                | 80       |\n",
    "| Max Power        | Макс. мощность               | Метрическая                 | string     | л.с. @ об/мин      | 80       |\n",
    "| Max Torque       | Макс. крутящий момент         | Метрическая                 | string     | Нм @ об/мин        | 80       |\n",
    "| Drivetrain       | Тип привода                   | Категориальная (номинальная) | string     | -                  | 136      |\n",
    "| Length           | Длина автомобиля             | Метрическая                 | float      | мм                 | 64       |\n",
    "| Width            | Ширина автомобиля            | Метрическая                 | float      | мм                 | 64       |\n",
    "| Height           | Высота автомобиля            | Метрическая                 | float      | мм                 | 64       |\n",
    "| Seating Capacity | Кол-во мест                  | Метрическая                 | float      | -                  | 64       |\n",
    "| Fuel Tank Capacity | Объем бака                 | Метрическая                 | float      | литры              | 113      |\n"
   ],
   "metadata": {
    "collapsed": false
   },
   "id": "7d7137c2ffdd6ba5"
  },
  {
   "cell_type": "markdown",
   "source": [
    "# 2. Изменение типов данных\n",
    "\n",
    "Для начала переведем Engine, Max Power и Max Torque в float.\n",
    "\n",
    "1) Engine содержит значения в виде '1197 cc', '1498 cc' и т.д., поэтому уберем 'cc' и преобразуем в int.\n",
    "2) Max Power содержит значения в виде '90 bhp @ 6000 rpm', '103 bhp @ 3600 rpm' и т.д., поэтому уберем ' bhp @ 3000 rpm' и преобразуем в int, так как количество оборотов, при котором достигается максимальная мощность, нас не интересует.\n",
    "3) Max Torque содержит значения в виде '113 Nm @ 4200rpm', '250 Nm @ 1500-2500rpm' и т.д., поэтому уберем ' Nm @ 4200rpm' и преобразуем в int, так как количество оборотов, при котором достигается максимальный крутящий момент, нас не интересует."
   ],
   "metadata": {
    "collapsed": false
   },
   "id": "5ac6ea2d58eabc4e"
  },
  {
   "cell_type": "code",
   "execution_count": 160,
   "outputs": [],
   "source": [
    "# Преобразуем только те строки, которые не NaN\n",
    "df['Engine'] = df['Engine'].str.replace(' cc', '').dropna().astype(float)\n",
    "df['Max Power'] = df['Max Power'].str.split('@').str[0].str.replace('bhp', '').dropna().astype(float)\n",
    "df['Max Torque'] = df['Max Torque'].str.split('@').str[0].str.replace('Nm', '').dropna().astype(float)"
   ],
   "metadata": {
    "collapsed": false,
    "ExecuteTime": {
     "end_time": "2025-02-11T14:55:20.521326900Z",
     "start_time": "2025-02-11T14:55:20.408005600Z"
    }
   },
   "id": "317ae237e6aec0fb"
  },
  {
   "cell_type": "markdown",
   "source": [
    "Приведем Owner к числовому виду, где 1 - один владелец, 2 - два владельца и т.д."
   ],
   "metadata": {
    "collapsed": false
   },
   "id": "4c7b680d2faf4e4f"
  },
  {
   "cell_type": "code",
   "execution_count": 161,
   "outputs": [
    {
     "data": {
      "text/plain": "array(['First', 'Second', 'Third', 'Fourth', 'UnRegistered Car',\n       '4 or More'], dtype=object)"
     },
     "execution_count": 161,
     "metadata": {},
     "output_type": "execute_result"
    }
   ],
   "source": [
    "df['Owner'].unique()"
   ],
   "metadata": {
    "collapsed": false,
    "ExecuteTime": {
     "end_time": "2025-02-11T14:55:20.522438400Z",
     "start_time": "2025-02-11T14:55:20.421079300Z"
    }
   },
   "id": "39631927aedfe7d9"
  },
  {
   "cell_type": "code",
   "execution_count": 162,
   "outputs": [
    {
     "data": {
      "text/plain": "               Make                         Model     Price  Year  Kilometer  \\\n139            Audi       Q5 45 TFSI Premium Plus   5651000  2022          1   \n194            Audi    Q3 2.0 TDI quattro Premium   1350000  2012      72000   \n222            Audi   A6 2.0 TFSi Technology Pack   7200000  2021      20000   \n362           Honda            City ZX CVT Petrol   1700000  2022       8530   \n389          Toyota                  Innova 2.0 V    575000  2013      82000   \n479   Mercedes-Benz   GLC 220d 4MATIC Progressive   6400000  2022       5500   \n756   Mercedes-Benz            C-Class 220 CDI AT   5400000  2022       4600   \n815         Renault      Kwid 1.0 RXT [2016-2019]    420000  2017      43000   \n839   Mercedes-Benz            A-Class Sedan 200d   4100000  2022       3826   \n861            Audi       A4 Premium Plus 40 TFSI   4200000  2021      12321   \n1533  Mercedes-Benz                   E-Class 200   7050000  2022       1102   \n1624  Mercedes-Benz            A-Class Sedan 200d   4200000  2021       5600   \n1746           Audi       A4 Premium Plus 40 TFSI   4151000  2022          1   \n1766           MINI          Cooper JCW Hatchback   5200000  2022          0   \n1782        Renault  Kwid CLIMBER 1.0 [2017-2019]    375000  2017      45000   \n1794  Mercedes-Benz            C-Class 220 CDI AT   5300000  2022      12500   \n1803        Porsche                  Cayenne Base  14900000  2021       7534   \n1840           Audi         A6 Technology 45 TFSI   5800000  2021       7935   \n1912  Mercedes-Benz    S-Class S 350D [2018-2020]  18500000  2021       5000   \n1977  Mercedes-Benz   GLC 220d 4MATIC Progressive   8100000  2022       5500   \n1980  Maruti Suzuki   Wagon R VXi 1.0 [2019-2019]    420000  2018      50000   \n\n     Fuel Type Transmission     Location   Color             Owner  \\\n139     Petrol    Automatic        Delhi    Blue  UnRegistered Car   \n194     Diesel    Automatic    Hyderabad   White  UnRegistered Car   \n222     Petrol    Automatic    Bangalore   White  UnRegistered Car   \n362     Petrol    Automatic         Pune   White  UnRegistered Car   \n389     Petrol       Manual     Varanasi    Gold  UnRegistered Car   \n479     Diesel    Automatic    Hyderabad   White  UnRegistered Car   \n756     Diesel    Automatic    Bangalore   White  UnRegistered Car   \n815     Petrol       Manual    Hyderabad    Grey  UnRegistered Car   \n839     Diesel    Automatic    Ahmedabad   White  UnRegistered Car   \n861     Petrol    Automatic        Delhi   Black  UnRegistered Car   \n1533    Petrol       Manual    Bangalore   Black  UnRegistered Car   \n1624    Diesel    Automatic        Delhi    Grey  UnRegistered Car   \n1746    Petrol    Automatic        Delhi   Black  UnRegistered Car   \n1766    Petrol    Automatic    Ahmedabad  Yellow  UnRegistered Car   \n1782    Petrol       Manual  Bhubaneswar    Grey  UnRegistered Car   \n1794    Diesel    Automatic    Hyderabad   White  UnRegistered Car   \n1803    Petrol    Automatic       Mumbai    Blue  UnRegistered Car   \n1840    Petrol    Automatic        Surat   Brown  UnRegistered Car   \n1912    Diesel    Automatic         Pune   White  UnRegistered Car   \n1977    Diesel    Automatic    Hyderabad   White  UnRegistered Car   \n1980    Petrol       Manual  Bhubaneswar   White  UnRegistered Car   \n\n     Seller Type  Engine  Max Power  Max Torque Drivetrain  Length   Width  \\\n139   Individual  1984.0      248.0       370.0        AWD  4663.0  1898.0   \n194   Individual  1968.0      174.0       380.0        AWD  4385.0  1831.0   \n222   Individual  1984.0      180.0       320.0        FWD  4915.0  1874.0   \n362   Individual  1498.0      119.0       145.0        FWD  4549.0  1748.0   \n389   Individual  1998.0      136.0       182.0        NaN  4555.0  1770.0   \n479   Individual  1950.0      192.0       400.0        AWD  4658.0  1890.0   \n756   Individual  2148.0      170.0       410.0        RWD  4596.0  1770.0   \n815   Individual   999.0       67.0        91.0        FWD  3679.0  1579.0   \n839   Individual  1950.0      147.0       320.0        FWD  4549.0  1796.0   \n861   Individual  1984.0      188.0       320.0        FWD  4762.0  1847.0   \n1533  Individual     NaN        NaN         NaN        NaN     NaN     NaN   \n1624  Individual  1950.0      147.0       320.0        FWD  4549.0  1796.0   \n1746  Individual  1984.0      188.0       320.0        FWD  4762.0  1847.0   \n1766  Individual  1998.0      228.0       320.0        FWD  3850.0  1727.0   \n1782  Individual   999.0       67.0        91.0        FWD  3679.0  1579.0   \n1794  Individual  2148.0      170.0       410.0        RWD  4596.0  1770.0   \n1803  Individual  2995.0      335.0       450.0        AWD  4918.0  1983.0   \n1840  Individual  1984.0      241.0       370.0        FWD  4939.0  1886.0   \n1912  Individual  2925.0      282.0       600.0        RWD  5246.0  1899.0   \n1977  Individual  1950.0      192.0       400.0        AWD  4658.0  1890.0   \n1980  Individual     NaN        NaN         NaN        NaN  3655.0  1620.0   \n\n      Height  Seating Capacity  Fuel Tank Capacity  \n139   1659.0               5.0                70.0  \n194   1608.0               5.0                64.0  \n222   1455.0               5.0                75.0  \n362   1489.0               5.0                40.0  \n389   1755.0               8.0                55.0  \n479   1644.0               5.0                66.0  \n756   1447.0               5.0                66.0  \n815   1478.0               5.0                28.0  \n839   1446.0               5.0                43.0  \n861   1433.0               5.0                54.0  \n1533     NaN               NaN                 NaN  \n1624  1446.0               5.0                43.0  \n1746  1433.0               5.0                54.0  \n1766  1414.0               4.0                44.0  \n1782  1478.0               5.0                28.0  \n1794  1447.0               5.0                66.0  \n1803  1696.0               5.0                75.0  \n1840  1457.0               5.0                73.0  \n1912  1494.0               5.0                70.0  \n1977  1644.0               5.0                66.0  \n1980  1675.0               5.0                32.0  ",
      "text/html": "<div>\n<style scoped>\n    .dataframe tbody tr th:only-of-type {\n        vertical-align: middle;\n    }\n\n    .dataframe tbody tr th {\n        vertical-align: top;\n    }\n\n    .dataframe thead th {\n        text-align: right;\n    }\n</style>\n<table border=\"1\" class=\"dataframe\">\n  <thead>\n    <tr style=\"text-align: right;\">\n      <th></th>\n      <th>Make</th>\n      <th>Model</th>\n      <th>Price</th>\n      <th>Year</th>\n      <th>Kilometer</th>\n      <th>Fuel Type</th>\n      <th>Transmission</th>\n      <th>Location</th>\n      <th>Color</th>\n      <th>Owner</th>\n      <th>Seller Type</th>\n      <th>Engine</th>\n      <th>Max Power</th>\n      <th>Max Torque</th>\n      <th>Drivetrain</th>\n      <th>Length</th>\n      <th>Width</th>\n      <th>Height</th>\n      <th>Seating Capacity</th>\n      <th>Fuel Tank Capacity</th>\n    </tr>\n  </thead>\n  <tbody>\n    <tr>\n      <th>139</th>\n      <td>Audi</td>\n      <td>Q5 45 TFSI Premium Plus</td>\n      <td>5651000</td>\n      <td>2022</td>\n      <td>1</td>\n      <td>Petrol</td>\n      <td>Automatic</td>\n      <td>Delhi</td>\n      <td>Blue</td>\n      <td>UnRegistered Car</td>\n      <td>Individual</td>\n      <td>1984.0</td>\n      <td>248.0</td>\n      <td>370.0</td>\n      <td>AWD</td>\n      <td>4663.0</td>\n      <td>1898.0</td>\n      <td>1659.0</td>\n      <td>5.0</td>\n      <td>70.0</td>\n    </tr>\n    <tr>\n      <th>194</th>\n      <td>Audi</td>\n      <td>Q3 2.0 TDI quattro Premium</td>\n      <td>1350000</td>\n      <td>2012</td>\n      <td>72000</td>\n      <td>Diesel</td>\n      <td>Automatic</td>\n      <td>Hyderabad</td>\n      <td>White</td>\n      <td>UnRegistered Car</td>\n      <td>Individual</td>\n      <td>1968.0</td>\n      <td>174.0</td>\n      <td>380.0</td>\n      <td>AWD</td>\n      <td>4385.0</td>\n      <td>1831.0</td>\n      <td>1608.0</td>\n      <td>5.0</td>\n      <td>64.0</td>\n    </tr>\n    <tr>\n      <th>222</th>\n      <td>Audi</td>\n      <td>A6 2.0 TFSi Technology Pack</td>\n      <td>7200000</td>\n      <td>2021</td>\n      <td>20000</td>\n      <td>Petrol</td>\n      <td>Automatic</td>\n      <td>Bangalore</td>\n      <td>White</td>\n      <td>UnRegistered Car</td>\n      <td>Individual</td>\n      <td>1984.0</td>\n      <td>180.0</td>\n      <td>320.0</td>\n      <td>FWD</td>\n      <td>4915.0</td>\n      <td>1874.0</td>\n      <td>1455.0</td>\n      <td>5.0</td>\n      <td>75.0</td>\n    </tr>\n    <tr>\n      <th>362</th>\n      <td>Honda</td>\n      <td>City ZX CVT Petrol</td>\n      <td>1700000</td>\n      <td>2022</td>\n      <td>8530</td>\n      <td>Petrol</td>\n      <td>Automatic</td>\n      <td>Pune</td>\n      <td>White</td>\n      <td>UnRegistered Car</td>\n      <td>Individual</td>\n      <td>1498.0</td>\n      <td>119.0</td>\n      <td>145.0</td>\n      <td>FWD</td>\n      <td>4549.0</td>\n      <td>1748.0</td>\n      <td>1489.0</td>\n      <td>5.0</td>\n      <td>40.0</td>\n    </tr>\n    <tr>\n      <th>389</th>\n      <td>Toyota</td>\n      <td>Innova 2.0 V</td>\n      <td>575000</td>\n      <td>2013</td>\n      <td>82000</td>\n      <td>Petrol</td>\n      <td>Manual</td>\n      <td>Varanasi</td>\n      <td>Gold</td>\n      <td>UnRegistered Car</td>\n      <td>Individual</td>\n      <td>1998.0</td>\n      <td>136.0</td>\n      <td>182.0</td>\n      <td>NaN</td>\n      <td>4555.0</td>\n      <td>1770.0</td>\n      <td>1755.0</td>\n      <td>8.0</td>\n      <td>55.0</td>\n    </tr>\n    <tr>\n      <th>479</th>\n      <td>Mercedes-Benz</td>\n      <td>GLC 220d 4MATIC Progressive</td>\n      <td>6400000</td>\n      <td>2022</td>\n      <td>5500</td>\n      <td>Diesel</td>\n      <td>Automatic</td>\n      <td>Hyderabad</td>\n      <td>White</td>\n      <td>UnRegistered Car</td>\n      <td>Individual</td>\n      <td>1950.0</td>\n      <td>192.0</td>\n      <td>400.0</td>\n      <td>AWD</td>\n      <td>4658.0</td>\n      <td>1890.0</td>\n      <td>1644.0</td>\n      <td>5.0</td>\n      <td>66.0</td>\n    </tr>\n    <tr>\n      <th>756</th>\n      <td>Mercedes-Benz</td>\n      <td>C-Class 220 CDI AT</td>\n      <td>5400000</td>\n      <td>2022</td>\n      <td>4600</td>\n      <td>Diesel</td>\n      <td>Automatic</td>\n      <td>Bangalore</td>\n      <td>White</td>\n      <td>UnRegistered Car</td>\n      <td>Individual</td>\n      <td>2148.0</td>\n      <td>170.0</td>\n      <td>410.0</td>\n      <td>RWD</td>\n      <td>4596.0</td>\n      <td>1770.0</td>\n      <td>1447.0</td>\n      <td>5.0</td>\n      <td>66.0</td>\n    </tr>\n    <tr>\n      <th>815</th>\n      <td>Renault</td>\n      <td>Kwid 1.0 RXT [2016-2019]</td>\n      <td>420000</td>\n      <td>2017</td>\n      <td>43000</td>\n      <td>Petrol</td>\n      <td>Manual</td>\n      <td>Hyderabad</td>\n      <td>Grey</td>\n      <td>UnRegistered Car</td>\n      <td>Individual</td>\n      <td>999.0</td>\n      <td>67.0</td>\n      <td>91.0</td>\n      <td>FWD</td>\n      <td>3679.0</td>\n      <td>1579.0</td>\n      <td>1478.0</td>\n      <td>5.0</td>\n      <td>28.0</td>\n    </tr>\n    <tr>\n      <th>839</th>\n      <td>Mercedes-Benz</td>\n      <td>A-Class Sedan 200d</td>\n      <td>4100000</td>\n      <td>2022</td>\n      <td>3826</td>\n      <td>Diesel</td>\n      <td>Automatic</td>\n      <td>Ahmedabad</td>\n      <td>White</td>\n      <td>UnRegistered Car</td>\n      <td>Individual</td>\n      <td>1950.0</td>\n      <td>147.0</td>\n      <td>320.0</td>\n      <td>FWD</td>\n      <td>4549.0</td>\n      <td>1796.0</td>\n      <td>1446.0</td>\n      <td>5.0</td>\n      <td>43.0</td>\n    </tr>\n    <tr>\n      <th>861</th>\n      <td>Audi</td>\n      <td>A4 Premium Plus 40 TFSI</td>\n      <td>4200000</td>\n      <td>2021</td>\n      <td>12321</td>\n      <td>Petrol</td>\n      <td>Automatic</td>\n      <td>Delhi</td>\n      <td>Black</td>\n      <td>UnRegistered Car</td>\n      <td>Individual</td>\n      <td>1984.0</td>\n      <td>188.0</td>\n      <td>320.0</td>\n      <td>FWD</td>\n      <td>4762.0</td>\n      <td>1847.0</td>\n      <td>1433.0</td>\n      <td>5.0</td>\n      <td>54.0</td>\n    </tr>\n    <tr>\n      <th>1533</th>\n      <td>Mercedes-Benz</td>\n      <td>E-Class 200</td>\n      <td>7050000</td>\n      <td>2022</td>\n      <td>1102</td>\n      <td>Petrol</td>\n      <td>Manual</td>\n      <td>Bangalore</td>\n      <td>Black</td>\n      <td>UnRegistered Car</td>\n      <td>Individual</td>\n      <td>NaN</td>\n      <td>NaN</td>\n      <td>NaN</td>\n      <td>NaN</td>\n      <td>NaN</td>\n      <td>NaN</td>\n      <td>NaN</td>\n      <td>NaN</td>\n      <td>NaN</td>\n    </tr>\n    <tr>\n      <th>1624</th>\n      <td>Mercedes-Benz</td>\n      <td>A-Class Sedan 200d</td>\n      <td>4200000</td>\n      <td>2021</td>\n      <td>5600</td>\n      <td>Diesel</td>\n      <td>Automatic</td>\n      <td>Delhi</td>\n      <td>Grey</td>\n      <td>UnRegistered Car</td>\n      <td>Individual</td>\n      <td>1950.0</td>\n      <td>147.0</td>\n      <td>320.0</td>\n      <td>FWD</td>\n      <td>4549.0</td>\n      <td>1796.0</td>\n      <td>1446.0</td>\n      <td>5.0</td>\n      <td>43.0</td>\n    </tr>\n    <tr>\n      <th>1746</th>\n      <td>Audi</td>\n      <td>A4 Premium Plus 40 TFSI</td>\n      <td>4151000</td>\n      <td>2022</td>\n      <td>1</td>\n      <td>Petrol</td>\n      <td>Automatic</td>\n      <td>Delhi</td>\n      <td>Black</td>\n      <td>UnRegistered Car</td>\n      <td>Individual</td>\n      <td>1984.0</td>\n      <td>188.0</td>\n      <td>320.0</td>\n      <td>FWD</td>\n      <td>4762.0</td>\n      <td>1847.0</td>\n      <td>1433.0</td>\n      <td>5.0</td>\n      <td>54.0</td>\n    </tr>\n    <tr>\n      <th>1766</th>\n      <td>MINI</td>\n      <td>Cooper JCW Hatchback</td>\n      <td>5200000</td>\n      <td>2022</td>\n      <td>0</td>\n      <td>Petrol</td>\n      <td>Automatic</td>\n      <td>Ahmedabad</td>\n      <td>Yellow</td>\n      <td>UnRegistered Car</td>\n      <td>Individual</td>\n      <td>1998.0</td>\n      <td>228.0</td>\n      <td>320.0</td>\n      <td>FWD</td>\n      <td>3850.0</td>\n      <td>1727.0</td>\n      <td>1414.0</td>\n      <td>4.0</td>\n      <td>44.0</td>\n    </tr>\n    <tr>\n      <th>1782</th>\n      <td>Renault</td>\n      <td>Kwid CLIMBER 1.0 [2017-2019]</td>\n      <td>375000</td>\n      <td>2017</td>\n      <td>45000</td>\n      <td>Petrol</td>\n      <td>Manual</td>\n      <td>Bhubaneswar</td>\n      <td>Grey</td>\n      <td>UnRegistered Car</td>\n      <td>Individual</td>\n      <td>999.0</td>\n      <td>67.0</td>\n      <td>91.0</td>\n      <td>FWD</td>\n      <td>3679.0</td>\n      <td>1579.0</td>\n      <td>1478.0</td>\n      <td>5.0</td>\n      <td>28.0</td>\n    </tr>\n    <tr>\n      <th>1794</th>\n      <td>Mercedes-Benz</td>\n      <td>C-Class 220 CDI AT</td>\n      <td>5300000</td>\n      <td>2022</td>\n      <td>12500</td>\n      <td>Diesel</td>\n      <td>Automatic</td>\n      <td>Hyderabad</td>\n      <td>White</td>\n      <td>UnRegistered Car</td>\n      <td>Individual</td>\n      <td>2148.0</td>\n      <td>170.0</td>\n      <td>410.0</td>\n      <td>RWD</td>\n      <td>4596.0</td>\n      <td>1770.0</td>\n      <td>1447.0</td>\n      <td>5.0</td>\n      <td>66.0</td>\n    </tr>\n    <tr>\n      <th>1803</th>\n      <td>Porsche</td>\n      <td>Cayenne Base</td>\n      <td>14900000</td>\n      <td>2021</td>\n      <td>7534</td>\n      <td>Petrol</td>\n      <td>Automatic</td>\n      <td>Mumbai</td>\n      <td>Blue</td>\n      <td>UnRegistered Car</td>\n      <td>Individual</td>\n      <td>2995.0</td>\n      <td>335.0</td>\n      <td>450.0</td>\n      <td>AWD</td>\n      <td>4918.0</td>\n      <td>1983.0</td>\n      <td>1696.0</td>\n      <td>5.0</td>\n      <td>75.0</td>\n    </tr>\n    <tr>\n      <th>1840</th>\n      <td>Audi</td>\n      <td>A6 Technology 45 TFSI</td>\n      <td>5800000</td>\n      <td>2021</td>\n      <td>7935</td>\n      <td>Petrol</td>\n      <td>Automatic</td>\n      <td>Surat</td>\n      <td>Brown</td>\n      <td>UnRegistered Car</td>\n      <td>Individual</td>\n      <td>1984.0</td>\n      <td>241.0</td>\n      <td>370.0</td>\n      <td>FWD</td>\n      <td>4939.0</td>\n      <td>1886.0</td>\n      <td>1457.0</td>\n      <td>5.0</td>\n      <td>73.0</td>\n    </tr>\n    <tr>\n      <th>1912</th>\n      <td>Mercedes-Benz</td>\n      <td>S-Class S 350D [2018-2020]</td>\n      <td>18500000</td>\n      <td>2021</td>\n      <td>5000</td>\n      <td>Diesel</td>\n      <td>Automatic</td>\n      <td>Pune</td>\n      <td>White</td>\n      <td>UnRegistered Car</td>\n      <td>Individual</td>\n      <td>2925.0</td>\n      <td>282.0</td>\n      <td>600.0</td>\n      <td>RWD</td>\n      <td>5246.0</td>\n      <td>1899.0</td>\n      <td>1494.0</td>\n      <td>5.0</td>\n      <td>70.0</td>\n    </tr>\n    <tr>\n      <th>1977</th>\n      <td>Mercedes-Benz</td>\n      <td>GLC 220d 4MATIC Progressive</td>\n      <td>8100000</td>\n      <td>2022</td>\n      <td>5500</td>\n      <td>Diesel</td>\n      <td>Automatic</td>\n      <td>Hyderabad</td>\n      <td>White</td>\n      <td>UnRegistered Car</td>\n      <td>Individual</td>\n      <td>1950.0</td>\n      <td>192.0</td>\n      <td>400.0</td>\n      <td>AWD</td>\n      <td>4658.0</td>\n      <td>1890.0</td>\n      <td>1644.0</td>\n      <td>5.0</td>\n      <td>66.0</td>\n    </tr>\n    <tr>\n      <th>1980</th>\n      <td>Maruti Suzuki</td>\n      <td>Wagon R VXi 1.0 [2019-2019]</td>\n      <td>420000</td>\n      <td>2018</td>\n      <td>50000</td>\n      <td>Petrol</td>\n      <td>Manual</td>\n      <td>Bhubaneswar</td>\n      <td>White</td>\n      <td>UnRegistered Car</td>\n      <td>Individual</td>\n      <td>NaN</td>\n      <td>NaN</td>\n      <td>NaN</td>\n      <td>NaN</td>\n      <td>3655.0</td>\n      <td>1620.0</td>\n      <td>1675.0</td>\n      <td>5.0</td>\n      <td>32.0</td>\n    </tr>\n  </tbody>\n</table>\n</div>"
     },
     "execution_count": 162,
     "metadata": {},
     "output_type": "execute_result"
    }
   ],
   "source": [
    "df[df['Owner'] == 'UnRegistered Car']"
   ],
   "metadata": {
    "collapsed": false,
    "ExecuteTime": {
     "end_time": "2025-02-11T14:55:20.576216100Z",
     "start_time": "2025-02-11T14:55:20.447051400Z"
    }
   },
   "id": "50cfa3d59863d8b5"
  },
  {
   "cell_type": "markdown",
   "source": [
    "Заметим, что есть небольшое количество машин без регистрации, причем они в основном достаточно новые. Поэтому для таких авто будем считать, что у них был 1 владелец."
   ],
   "metadata": {
    "collapsed": false
   },
   "id": "703d2fed267de401"
  },
  {
   "cell_type": "code",
   "execution_count": 163,
   "outputs": [],
   "source": [
    "# Заменим значения в столбце 'Owner' на числовые\n",
    "df['Owner'] = df['Owner'].replace({\n",
    "    'First': 1,\n",
    "    'Second': 2,\n",
    "    'Third': 3,\n",
    "    'Fourth': 4,\n",
    "    'UnRegistered Car': 1,\n",
    "    '4 or More': 5\n",
    "})"
   ],
   "metadata": {
    "collapsed": false,
    "ExecuteTime": {
     "end_time": "2025-02-11T14:55:20.577501600Z",
     "start_time": "2025-02-11T14:55:20.467713200Z"
    }
   },
   "id": "b6952bee790ce6df"
  },
  {
   "cell_type": "markdown",
   "source": [
    "Посмотрим на изменения в df:"
   ],
   "metadata": {
    "collapsed": false
   },
   "id": "fa67c772aaf8ff68"
  },
  {
   "cell_type": "code",
   "execution_count": 164,
   "outputs": [
    {
     "data": {
      "text/plain": "               Make                                  Model    Price  Year  \\\n0             Honda                    Amaze 1.2 VX i-VTEC   505000  2017   \n1     Maruti Suzuki                        Swift DZire VDI   450000  2014   \n2           Hyundai                   i10 Magna 1.2 Kappa2   220000  2011   \n3            Toyota                               Glanza G   799000  2019   \n4            Toyota        Innova 2.4 VX 7 STR [2016-2020]  1950000  2018   \n...             ...                                    ...      ...   ...   \n2054       Mahindra                  XUV500 W8 [2015-2017]   850000  2016   \n2055        Hyundai                           Eon D-Lite +   275000  2014   \n2056           Ford            Figo Duratec Petrol ZXI 1.2   240000  2013   \n2057            BMW  5-Series 520d Luxury Line [2017-2019]  4290000  2018   \n2058       Mahindra      Bolero Power Plus ZLX [2016-2019]   670000  2017   \n\n      Kilometer Fuel Type Transmission    Location   Color  Owner Seller Type  \\\n0         87150    Petrol       Manual        Pune    Grey      1   Corporate   \n1         75000    Diesel       Manual    Ludhiana   White      2  Individual   \n2         67000    Petrol       Manual     Lucknow  Maroon      1  Individual   \n3         37500    Petrol       Manual   Mangalore     Red      1  Individual   \n4         69000    Diesel       Manual      Mumbai    Grey      1  Individual   \n...         ...       ...          ...         ...     ...    ...         ...   \n2054      90300    Diesel       Manual       Surat   White      1  Individual   \n2055      83000    Petrol       Manual   Ahmedabad   White      2  Individual   \n2056      73000    Petrol       Manual       Thane  Silver      1  Individual   \n2057      60474    Diesel    Automatic  Coimbatore   White      1  Individual   \n2058      72000    Diesel       Manual    Guwahati   White      1  Individual   \n\n      Engine  Max Power  Max Torque Drivetrain  Length   Width  Height  \\\n0     1198.0       87.0    109.0000        FWD  3990.0  1680.0  1505.0   \n1     1248.0       74.0    190.0000        FWD  3995.0  1695.0  1555.0   \n2     1197.0       79.0    112.7619        FWD  3585.0  1595.0  1550.0   \n3     1197.0       82.0    113.0000        FWD  3995.0  1745.0  1510.0   \n4     2393.0      148.0    343.0000        RWD  4735.0  1830.0  1795.0   \n...      ...        ...         ...        ...     ...     ...     ...   \n2054  2179.0      138.0    330.0000        FWD  4585.0  1890.0  1785.0   \n2055   814.0       55.0     75.0000        FWD  3495.0  1550.0  1500.0   \n2056  1196.0       70.0    102.0000        FWD  3795.0  1680.0  1427.0   \n2057  1995.0      188.0    400.0000        RWD  4936.0  1868.0  1479.0   \n2058  1493.0       70.0    195.0000        RWD  3995.0  1745.0  1880.0   \n\n      Seating Capacity  Fuel Tank Capacity  \n0                  5.0                35.0  \n1                  5.0                42.0  \n2                  5.0                35.0  \n3                  5.0                37.0  \n4                  7.0                55.0  \n...                ...                 ...  \n2054               7.0                70.0  \n2055               5.0                32.0  \n2056               5.0                45.0  \n2057               5.0                65.0  \n2058               7.0                 NaN  \n\n[2059 rows x 20 columns]",
      "text/html": "<div>\n<style scoped>\n    .dataframe tbody tr th:only-of-type {\n        vertical-align: middle;\n    }\n\n    .dataframe tbody tr th {\n        vertical-align: top;\n    }\n\n    .dataframe thead th {\n        text-align: right;\n    }\n</style>\n<table border=\"1\" class=\"dataframe\">\n  <thead>\n    <tr style=\"text-align: right;\">\n      <th></th>\n      <th>Make</th>\n      <th>Model</th>\n      <th>Price</th>\n      <th>Year</th>\n      <th>Kilometer</th>\n      <th>Fuel Type</th>\n      <th>Transmission</th>\n      <th>Location</th>\n      <th>Color</th>\n      <th>Owner</th>\n      <th>Seller Type</th>\n      <th>Engine</th>\n      <th>Max Power</th>\n      <th>Max Torque</th>\n      <th>Drivetrain</th>\n      <th>Length</th>\n      <th>Width</th>\n      <th>Height</th>\n      <th>Seating Capacity</th>\n      <th>Fuel Tank Capacity</th>\n    </tr>\n  </thead>\n  <tbody>\n    <tr>\n      <th>0</th>\n      <td>Honda</td>\n      <td>Amaze 1.2 VX i-VTEC</td>\n      <td>505000</td>\n      <td>2017</td>\n      <td>87150</td>\n      <td>Petrol</td>\n      <td>Manual</td>\n      <td>Pune</td>\n      <td>Grey</td>\n      <td>1</td>\n      <td>Corporate</td>\n      <td>1198.0</td>\n      <td>87.0</td>\n      <td>109.0000</td>\n      <td>FWD</td>\n      <td>3990.0</td>\n      <td>1680.0</td>\n      <td>1505.0</td>\n      <td>5.0</td>\n      <td>35.0</td>\n    </tr>\n    <tr>\n      <th>1</th>\n      <td>Maruti Suzuki</td>\n      <td>Swift DZire VDI</td>\n      <td>450000</td>\n      <td>2014</td>\n      <td>75000</td>\n      <td>Diesel</td>\n      <td>Manual</td>\n      <td>Ludhiana</td>\n      <td>White</td>\n      <td>2</td>\n      <td>Individual</td>\n      <td>1248.0</td>\n      <td>74.0</td>\n      <td>190.0000</td>\n      <td>FWD</td>\n      <td>3995.0</td>\n      <td>1695.0</td>\n      <td>1555.0</td>\n      <td>5.0</td>\n      <td>42.0</td>\n    </tr>\n    <tr>\n      <th>2</th>\n      <td>Hyundai</td>\n      <td>i10 Magna 1.2 Kappa2</td>\n      <td>220000</td>\n      <td>2011</td>\n      <td>67000</td>\n      <td>Petrol</td>\n      <td>Manual</td>\n      <td>Lucknow</td>\n      <td>Maroon</td>\n      <td>1</td>\n      <td>Individual</td>\n      <td>1197.0</td>\n      <td>79.0</td>\n      <td>112.7619</td>\n      <td>FWD</td>\n      <td>3585.0</td>\n      <td>1595.0</td>\n      <td>1550.0</td>\n      <td>5.0</td>\n      <td>35.0</td>\n    </tr>\n    <tr>\n      <th>3</th>\n      <td>Toyota</td>\n      <td>Glanza G</td>\n      <td>799000</td>\n      <td>2019</td>\n      <td>37500</td>\n      <td>Petrol</td>\n      <td>Manual</td>\n      <td>Mangalore</td>\n      <td>Red</td>\n      <td>1</td>\n      <td>Individual</td>\n      <td>1197.0</td>\n      <td>82.0</td>\n      <td>113.0000</td>\n      <td>FWD</td>\n      <td>3995.0</td>\n      <td>1745.0</td>\n      <td>1510.0</td>\n      <td>5.0</td>\n      <td>37.0</td>\n    </tr>\n    <tr>\n      <th>4</th>\n      <td>Toyota</td>\n      <td>Innova 2.4 VX 7 STR [2016-2020]</td>\n      <td>1950000</td>\n      <td>2018</td>\n      <td>69000</td>\n      <td>Diesel</td>\n      <td>Manual</td>\n      <td>Mumbai</td>\n      <td>Grey</td>\n      <td>1</td>\n      <td>Individual</td>\n      <td>2393.0</td>\n      <td>148.0</td>\n      <td>343.0000</td>\n      <td>RWD</td>\n      <td>4735.0</td>\n      <td>1830.0</td>\n      <td>1795.0</td>\n      <td>7.0</td>\n      <td>55.0</td>\n    </tr>\n    <tr>\n      <th>...</th>\n      <td>...</td>\n      <td>...</td>\n      <td>...</td>\n      <td>...</td>\n      <td>...</td>\n      <td>...</td>\n      <td>...</td>\n      <td>...</td>\n      <td>...</td>\n      <td>...</td>\n      <td>...</td>\n      <td>...</td>\n      <td>...</td>\n      <td>...</td>\n      <td>...</td>\n      <td>...</td>\n      <td>...</td>\n      <td>...</td>\n      <td>...</td>\n      <td>...</td>\n    </tr>\n    <tr>\n      <th>2054</th>\n      <td>Mahindra</td>\n      <td>XUV500 W8 [2015-2017]</td>\n      <td>850000</td>\n      <td>2016</td>\n      <td>90300</td>\n      <td>Diesel</td>\n      <td>Manual</td>\n      <td>Surat</td>\n      <td>White</td>\n      <td>1</td>\n      <td>Individual</td>\n      <td>2179.0</td>\n      <td>138.0</td>\n      <td>330.0000</td>\n      <td>FWD</td>\n      <td>4585.0</td>\n      <td>1890.0</td>\n      <td>1785.0</td>\n      <td>7.0</td>\n      <td>70.0</td>\n    </tr>\n    <tr>\n      <th>2055</th>\n      <td>Hyundai</td>\n      <td>Eon D-Lite +</td>\n      <td>275000</td>\n      <td>2014</td>\n      <td>83000</td>\n      <td>Petrol</td>\n      <td>Manual</td>\n      <td>Ahmedabad</td>\n      <td>White</td>\n      <td>2</td>\n      <td>Individual</td>\n      <td>814.0</td>\n      <td>55.0</td>\n      <td>75.0000</td>\n      <td>FWD</td>\n      <td>3495.0</td>\n      <td>1550.0</td>\n      <td>1500.0</td>\n      <td>5.0</td>\n      <td>32.0</td>\n    </tr>\n    <tr>\n      <th>2056</th>\n      <td>Ford</td>\n      <td>Figo Duratec Petrol ZXI 1.2</td>\n      <td>240000</td>\n      <td>2013</td>\n      <td>73000</td>\n      <td>Petrol</td>\n      <td>Manual</td>\n      <td>Thane</td>\n      <td>Silver</td>\n      <td>1</td>\n      <td>Individual</td>\n      <td>1196.0</td>\n      <td>70.0</td>\n      <td>102.0000</td>\n      <td>FWD</td>\n      <td>3795.0</td>\n      <td>1680.0</td>\n      <td>1427.0</td>\n      <td>5.0</td>\n      <td>45.0</td>\n    </tr>\n    <tr>\n      <th>2057</th>\n      <td>BMW</td>\n      <td>5-Series 520d Luxury Line [2017-2019]</td>\n      <td>4290000</td>\n      <td>2018</td>\n      <td>60474</td>\n      <td>Diesel</td>\n      <td>Automatic</td>\n      <td>Coimbatore</td>\n      <td>White</td>\n      <td>1</td>\n      <td>Individual</td>\n      <td>1995.0</td>\n      <td>188.0</td>\n      <td>400.0000</td>\n      <td>RWD</td>\n      <td>4936.0</td>\n      <td>1868.0</td>\n      <td>1479.0</td>\n      <td>5.0</td>\n      <td>65.0</td>\n    </tr>\n    <tr>\n      <th>2058</th>\n      <td>Mahindra</td>\n      <td>Bolero Power Plus ZLX [2016-2019]</td>\n      <td>670000</td>\n      <td>2017</td>\n      <td>72000</td>\n      <td>Diesel</td>\n      <td>Manual</td>\n      <td>Guwahati</td>\n      <td>White</td>\n      <td>1</td>\n      <td>Individual</td>\n      <td>1493.0</td>\n      <td>70.0</td>\n      <td>195.0000</td>\n      <td>RWD</td>\n      <td>3995.0</td>\n      <td>1745.0</td>\n      <td>1880.0</td>\n      <td>7.0</td>\n      <td>NaN</td>\n    </tr>\n  </tbody>\n</table>\n<p>2059 rows × 20 columns</p>\n</div>"
     },
     "execution_count": 164,
     "metadata": {},
     "output_type": "execute_result"
    }
   ],
   "source": [
    "df"
   ],
   "metadata": {
    "collapsed": false,
    "ExecuteTime": {
     "end_time": "2025-02-11T14:55:20.616460300Z",
     "start_time": "2025-02-11T14:55:20.482122300Z"
    }
   },
   "id": "3833b1f4e0537827"
  },
  {
   "cell_type": "markdown",
   "source": [
    "# 3. Обработка пропусков\n",
    "\n",
    "Как мы заметили, пропуски есть у переменных Engine, Max Power, Max Torque, Drivetrain, Length, Width, Height, Seating Capacity, Fuel Tank Capacity.\n",
    "\n",
    "Заполним все пропуски медианой (в случае числовых переменных) или модой (в случае категориальной Drivetrain)."
   ],
   "metadata": {
    "collapsed": false
   },
   "id": "69272ba774cc64e3"
  },
  {
   "cell_type": "code",
   "execution_count": 165,
   "outputs": [],
   "source": [
    "df['Engine'] = df['Engine'].fillna(df['Engine'].median())\n",
    "df['Max Power'] = df['Max Power'].fillna(df['Max Power'].median())\n",
    "df['Max Torque'] = df['Max Torque'].fillna(df['Max Torque'].median())\n",
    "df['Drivetrain'] = df['Drivetrain'].fillna(df['Drivetrain'].mode()[0])\n",
    "df['Length'] = df['Length'].fillna(df['Length'].median())\n",
    "df['Width'] = df['Width'].fillna(df['Width'].median())\n",
    "df['Height'] = df['Height'].fillna(df['Height'].median())\n",
    "df['Seating Capacity'] = df['Seating Capacity'].fillna(df['Seating Capacity'].median())\n",
    "df['Fuel Tank Capacity'] = df['Fuel Tank Capacity'].fillna(df['Fuel Tank Capacity'].median())"
   ],
   "metadata": {
    "collapsed": false,
    "ExecuteTime": {
     "end_time": "2025-02-11T14:55:20.619035300Z",
     "start_time": "2025-02-11T14:55:20.516890800Z"
    }
   },
   "id": "3a7cdd5d0b107009"
  },
  {
   "cell_type": "code",
   "execution_count": 166,
   "outputs": [
    {
     "data": {
      "text/plain": "Make                  0\nModel                 0\nPrice                 0\nYear                  0\nKilometer             0\nFuel Type             0\nTransmission          0\nLocation              0\nColor                 0\nOwner                 0\nSeller Type           0\nEngine                0\nMax Power             0\nMax Torque            0\nDrivetrain            0\nLength                0\nWidth                 0\nHeight                0\nSeating Capacity      0\nFuel Tank Capacity    0\ndtype: int64"
     },
     "execution_count": 166,
     "metadata": {},
     "output_type": "execute_result"
    }
   ],
   "source": [
    "df.isnull().sum()"
   ],
   "metadata": {
    "collapsed": false,
    "ExecuteTime": {
     "end_time": "2025-02-11T14:55:20.648573400Z",
     "start_time": "2025-02-11T14:55:20.529262900Z"
    }
   },
   "id": "9bc812ef4c79fa2c"
  },
  {
   "cell_type": "markdown",
   "source": [
    "Больше пропусков нет!"
   ],
   "metadata": {
    "collapsed": false
   },
   "id": "602f229970f22ff4"
  },
  {
   "cell_type": "markdown",
   "source": [
    "# 4. Новый столбец на основе предыдущих\n",
    "\n",
    "Рассчитаем для каждой машины среднегодовой пробег. Эта информация может быть полезной, чтобы понять, насколько машина была эксплуатирована.\n",
    "\n",
    "Автор не указал, в каком году был сделан датасет. Найдем год выпуска самой новой машины и будем считать, что данные актуальны на этот год."
   ],
   "metadata": {
    "collapsed": false
   },
   "id": "3cd4facb95542a4a"
  },
  {
   "cell_type": "code",
   "execution_count": 167,
   "outputs": [],
   "source": [
    "max_year = df['Year'].max()\n",
    "df['Kilometer Per Year'] = df['Kilometer'] / (max_year + 1 - df['Year'])"
   ],
   "metadata": {
    "collapsed": false,
    "ExecuteTime": {
     "end_time": "2025-02-11T14:55:20.649724200Z",
     "start_time": "2025-02-11T14:55:20.543734600Z"
    }
   },
   "id": "2619660a00716bec"
  },
  {
   "cell_type": "markdown",
   "source": [
    "# 5. Категориальная переменная из метрической\n",
    "\n",
    "В датасете есть некоторое количество машин с маленьким пробегом. Вероятно, это машины, которые были куплены, но не использовались или были куплены на перепродажу. Будем считать, что:\n",
    "\n",
    "- Машина с пробегом менее 1000 км - новая\n",
    "- Машина с пробегом от 1000 до 10000 км - почти новая\n",
    "- Машина с пробегом от 10000 - б/у"
   ],
   "metadata": {
    "collapsed": false
   },
   "id": "7bb1b0800cb6522"
  },
  {
   "cell_type": "code",
   "execution_count": 168,
   "outputs": [],
   "source": [
    "df['Kilometer Category'] = pd.cut(df['Kilometer'], bins=[-1, 1000, 10000, df['Kilometer'].max()], labels=['New', 'Almost New', 'Used'])"
   ],
   "metadata": {
    "collapsed": false,
    "ExecuteTime": {
     "end_time": "2025-02-11T14:55:20.735954300Z",
     "start_time": "2025-02-11T14:55:20.625827900Z"
    }
   },
   "id": "422f26379e1c5628"
  },
  {
   "cell_type": "code",
   "execution_count": 169,
   "outputs": [
    {
     "data": {
      "text/plain": "               Make                                  Model    Price  Year  \\\n0             Honda                    Amaze 1.2 VX i-VTEC   505000  2017   \n1     Maruti Suzuki                        Swift DZire VDI   450000  2014   \n2           Hyundai                   i10 Magna 1.2 Kappa2   220000  2011   \n3            Toyota                               Glanza G   799000  2019   \n4            Toyota        Innova 2.4 VX 7 STR [2016-2020]  1950000  2018   \n...             ...                                    ...      ...   ...   \n2054       Mahindra                  XUV500 W8 [2015-2017]   850000  2016   \n2055        Hyundai                           Eon D-Lite +   275000  2014   \n2056           Ford            Figo Duratec Petrol ZXI 1.2   240000  2013   \n2057            BMW  5-Series 520d Luxury Line [2017-2019]  4290000  2018   \n2058       Mahindra      Bolero Power Plus ZLX [2016-2019]   670000  2017   \n\n      Kilometer Fuel Type Transmission    Location   Color  Owner  ...  \\\n0         87150    Petrol       Manual        Pune    Grey      1  ...   \n1         75000    Diesel       Manual    Ludhiana   White      2  ...   \n2         67000    Petrol       Manual     Lucknow  Maroon      1  ...   \n3         37500    Petrol       Manual   Mangalore     Red      1  ...   \n4         69000    Diesel       Manual      Mumbai    Grey      1  ...   \n...         ...       ...          ...         ...     ...    ...  ...   \n2054      90300    Diesel       Manual       Surat   White      1  ...   \n2055      83000    Petrol       Manual   Ahmedabad   White      2  ...   \n2056      73000    Petrol       Manual       Thane  Silver      1  ...   \n2057      60474    Diesel    Automatic  Coimbatore   White      1  ...   \n2058      72000    Diesel       Manual    Guwahati   White      1  ...   \n\n     Max Power  Max Torque  Drivetrain  Length   Width  Height  \\\n0         87.0    109.0000         FWD  3990.0  1680.0  1505.0   \n1         74.0    190.0000         FWD  3995.0  1695.0  1555.0   \n2         79.0    112.7619         FWD  3585.0  1595.0  1550.0   \n3         82.0    113.0000         FWD  3995.0  1745.0  1510.0   \n4        148.0    343.0000         RWD  4735.0  1830.0  1795.0   \n...        ...         ...         ...     ...     ...     ...   \n2054     138.0    330.0000         FWD  4585.0  1890.0  1785.0   \n2055      55.0     75.0000         FWD  3495.0  1550.0  1500.0   \n2056      70.0    102.0000         FWD  3795.0  1680.0  1427.0   \n2057     188.0    400.0000         RWD  4936.0  1868.0  1479.0   \n2058      70.0    195.0000         RWD  3995.0  1745.0  1880.0   \n\n      Seating Capacity  Fuel Tank Capacity  Kilometer Per Year  \\\n0                  5.0                35.0        14525.000000   \n1                  5.0                42.0         8333.333333   \n2                  5.0                35.0         5583.333333   \n3                  5.0                37.0         9375.000000   \n4                  7.0                55.0        13800.000000   \n...                ...                 ...                 ...   \n2054               7.0                70.0        12900.000000   \n2055               5.0                32.0         9222.222222   \n2056               5.0                45.0         7300.000000   \n2057               5.0                65.0        12094.800000   \n2058               7.0                50.0        12000.000000   \n\n      Kilometer Category  \n0                   Used  \n1                   Used  \n2                   Used  \n3                   Used  \n4                   Used  \n...                  ...  \n2054                Used  \n2055                Used  \n2056                Used  \n2057                Used  \n2058                Used  \n\n[2059 rows x 22 columns]",
      "text/html": "<div>\n<style scoped>\n    .dataframe tbody tr th:only-of-type {\n        vertical-align: middle;\n    }\n\n    .dataframe tbody tr th {\n        vertical-align: top;\n    }\n\n    .dataframe thead th {\n        text-align: right;\n    }\n</style>\n<table border=\"1\" class=\"dataframe\">\n  <thead>\n    <tr style=\"text-align: right;\">\n      <th></th>\n      <th>Make</th>\n      <th>Model</th>\n      <th>Price</th>\n      <th>Year</th>\n      <th>Kilometer</th>\n      <th>Fuel Type</th>\n      <th>Transmission</th>\n      <th>Location</th>\n      <th>Color</th>\n      <th>Owner</th>\n      <th>...</th>\n      <th>Max Power</th>\n      <th>Max Torque</th>\n      <th>Drivetrain</th>\n      <th>Length</th>\n      <th>Width</th>\n      <th>Height</th>\n      <th>Seating Capacity</th>\n      <th>Fuel Tank Capacity</th>\n      <th>Kilometer Per Year</th>\n      <th>Kilometer Category</th>\n    </tr>\n  </thead>\n  <tbody>\n    <tr>\n      <th>0</th>\n      <td>Honda</td>\n      <td>Amaze 1.2 VX i-VTEC</td>\n      <td>505000</td>\n      <td>2017</td>\n      <td>87150</td>\n      <td>Petrol</td>\n      <td>Manual</td>\n      <td>Pune</td>\n      <td>Grey</td>\n      <td>1</td>\n      <td>...</td>\n      <td>87.0</td>\n      <td>109.0000</td>\n      <td>FWD</td>\n      <td>3990.0</td>\n      <td>1680.0</td>\n      <td>1505.0</td>\n      <td>5.0</td>\n      <td>35.0</td>\n      <td>14525.000000</td>\n      <td>Used</td>\n    </tr>\n    <tr>\n      <th>1</th>\n      <td>Maruti Suzuki</td>\n      <td>Swift DZire VDI</td>\n      <td>450000</td>\n      <td>2014</td>\n      <td>75000</td>\n      <td>Diesel</td>\n      <td>Manual</td>\n      <td>Ludhiana</td>\n      <td>White</td>\n      <td>2</td>\n      <td>...</td>\n      <td>74.0</td>\n      <td>190.0000</td>\n      <td>FWD</td>\n      <td>3995.0</td>\n      <td>1695.0</td>\n      <td>1555.0</td>\n      <td>5.0</td>\n      <td>42.0</td>\n      <td>8333.333333</td>\n      <td>Used</td>\n    </tr>\n    <tr>\n      <th>2</th>\n      <td>Hyundai</td>\n      <td>i10 Magna 1.2 Kappa2</td>\n      <td>220000</td>\n      <td>2011</td>\n      <td>67000</td>\n      <td>Petrol</td>\n      <td>Manual</td>\n      <td>Lucknow</td>\n      <td>Maroon</td>\n      <td>1</td>\n      <td>...</td>\n      <td>79.0</td>\n      <td>112.7619</td>\n      <td>FWD</td>\n      <td>3585.0</td>\n      <td>1595.0</td>\n      <td>1550.0</td>\n      <td>5.0</td>\n      <td>35.0</td>\n      <td>5583.333333</td>\n      <td>Used</td>\n    </tr>\n    <tr>\n      <th>3</th>\n      <td>Toyota</td>\n      <td>Glanza G</td>\n      <td>799000</td>\n      <td>2019</td>\n      <td>37500</td>\n      <td>Petrol</td>\n      <td>Manual</td>\n      <td>Mangalore</td>\n      <td>Red</td>\n      <td>1</td>\n      <td>...</td>\n      <td>82.0</td>\n      <td>113.0000</td>\n      <td>FWD</td>\n      <td>3995.0</td>\n      <td>1745.0</td>\n      <td>1510.0</td>\n      <td>5.0</td>\n      <td>37.0</td>\n      <td>9375.000000</td>\n      <td>Used</td>\n    </tr>\n    <tr>\n      <th>4</th>\n      <td>Toyota</td>\n      <td>Innova 2.4 VX 7 STR [2016-2020]</td>\n      <td>1950000</td>\n      <td>2018</td>\n      <td>69000</td>\n      <td>Diesel</td>\n      <td>Manual</td>\n      <td>Mumbai</td>\n      <td>Grey</td>\n      <td>1</td>\n      <td>...</td>\n      <td>148.0</td>\n      <td>343.0000</td>\n      <td>RWD</td>\n      <td>4735.0</td>\n      <td>1830.0</td>\n      <td>1795.0</td>\n      <td>7.0</td>\n      <td>55.0</td>\n      <td>13800.000000</td>\n      <td>Used</td>\n    </tr>\n    <tr>\n      <th>...</th>\n      <td>...</td>\n      <td>...</td>\n      <td>...</td>\n      <td>...</td>\n      <td>...</td>\n      <td>...</td>\n      <td>...</td>\n      <td>...</td>\n      <td>...</td>\n      <td>...</td>\n      <td>...</td>\n      <td>...</td>\n      <td>...</td>\n      <td>...</td>\n      <td>...</td>\n      <td>...</td>\n      <td>...</td>\n      <td>...</td>\n      <td>...</td>\n      <td>...</td>\n      <td>...</td>\n    </tr>\n    <tr>\n      <th>2054</th>\n      <td>Mahindra</td>\n      <td>XUV500 W8 [2015-2017]</td>\n      <td>850000</td>\n      <td>2016</td>\n      <td>90300</td>\n      <td>Diesel</td>\n      <td>Manual</td>\n      <td>Surat</td>\n      <td>White</td>\n      <td>1</td>\n      <td>...</td>\n      <td>138.0</td>\n      <td>330.0000</td>\n      <td>FWD</td>\n      <td>4585.0</td>\n      <td>1890.0</td>\n      <td>1785.0</td>\n      <td>7.0</td>\n      <td>70.0</td>\n      <td>12900.000000</td>\n      <td>Used</td>\n    </tr>\n    <tr>\n      <th>2055</th>\n      <td>Hyundai</td>\n      <td>Eon D-Lite +</td>\n      <td>275000</td>\n      <td>2014</td>\n      <td>83000</td>\n      <td>Petrol</td>\n      <td>Manual</td>\n      <td>Ahmedabad</td>\n      <td>White</td>\n      <td>2</td>\n      <td>...</td>\n      <td>55.0</td>\n      <td>75.0000</td>\n      <td>FWD</td>\n      <td>3495.0</td>\n      <td>1550.0</td>\n      <td>1500.0</td>\n      <td>5.0</td>\n      <td>32.0</td>\n      <td>9222.222222</td>\n      <td>Used</td>\n    </tr>\n    <tr>\n      <th>2056</th>\n      <td>Ford</td>\n      <td>Figo Duratec Petrol ZXI 1.2</td>\n      <td>240000</td>\n      <td>2013</td>\n      <td>73000</td>\n      <td>Petrol</td>\n      <td>Manual</td>\n      <td>Thane</td>\n      <td>Silver</td>\n      <td>1</td>\n      <td>...</td>\n      <td>70.0</td>\n      <td>102.0000</td>\n      <td>FWD</td>\n      <td>3795.0</td>\n      <td>1680.0</td>\n      <td>1427.0</td>\n      <td>5.0</td>\n      <td>45.0</td>\n      <td>7300.000000</td>\n      <td>Used</td>\n    </tr>\n    <tr>\n      <th>2057</th>\n      <td>BMW</td>\n      <td>5-Series 520d Luxury Line [2017-2019]</td>\n      <td>4290000</td>\n      <td>2018</td>\n      <td>60474</td>\n      <td>Diesel</td>\n      <td>Automatic</td>\n      <td>Coimbatore</td>\n      <td>White</td>\n      <td>1</td>\n      <td>...</td>\n      <td>188.0</td>\n      <td>400.0000</td>\n      <td>RWD</td>\n      <td>4936.0</td>\n      <td>1868.0</td>\n      <td>1479.0</td>\n      <td>5.0</td>\n      <td>65.0</td>\n      <td>12094.800000</td>\n      <td>Used</td>\n    </tr>\n    <tr>\n      <th>2058</th>\n      <td>Mahindra</td>\n      <td>Bolero Power Plus ZLX [2016-2019]</td>\n      <td>670000</td>\n      <td>2017</td>\n      <td>72000</td>\n      <td>Diesel</td>\n      <td>Manual</td>\n      <td>Guwahati</td>\n      <td>White</td>\n      <td>1</td>\n      <td>...</td>\n      <td>70.0</td>\n      <td>195.0000</td>\n      <td>RWD</td>\n      <td>3995.0</td>\n      <td>1745.0</td>\n      <td>1880.0</td>\n      <td>7.0</td>\n      <td>50.0</td>\n      <td>12000.000000</td>\n      <td>Used</td>\n    </tr>\n  </tbody>\n</table>\n<p>2059 rows × 22 columns</p>\n</div>"
     },
     "execution_count": 169,
     "metadata": {},
     "output_type": "execute_result"
    }
   ],
   "source": [
    "df"
   ],
   "metadata": {
    "collapsed": false,
    "ExecuteTime": {
     "end_time": "2025-02-11T14:55:20.830602700Z",
     "start_time": "2025-02-11T14:55:20.704054300Z"
    }
   },
   "id": "8637eb8b9c9c1d10"
  },
  {
   "cell_type": "code",
   "execution_count": 169,
   "outputs": [],
   "source": [],
   "metadata": {
    "collapsed": false,
    "ExecuteTime": {
     "end_time": "2025-02-11T14:55:20.866756Z",
     "start_time": "2025-02-11T14:55:20.804841500Z"
    }
   },
   "id": "8bda7ed4cf6dcfec"
  }
 ],
 "metadata": {
  "kernelspec": {
   "display_name": "Python 3",
   "language": "python",
   "name": "python3"
  },
  "language_info": {
   "codemirror_mode": {
    "name": "ipython",
    "version": 2
   },
   "file_extension": ".py",
   "mimetype": "text/x-python",
   "name": "python",
   "nbconvert_exporter": "python",
   "pygments_lexer": "ipython2",
   "version": "2.7.6"
  }
 },
 "nbformat": 4,
 "nbformat_minor": 5
}
